{
 "cells": [
  {
   "cell_type": "code",
   "execution_count": 27,
   "metadata": {},
   "outputs": [
    {
     "name": "stdout",
     "output_type": "stream",
     "text": [
      "gistic2 :\n",
      "\t BLCA :  TCGA.BLCA.sampleMap/Gistic2_CopyNumber_Gistic2_all_data_by_genes\n",
      "\t COAD :  TCGA.COAD.sampleMap/Gistic2_CopyNumber_Gistic2_all_data_by_genes\n",
      "\t PRAD :  TCGA.PRAD.sampleMap/Gistic2_CopyNumber_Gistic2_all_data_by_genes\n",
      "\t READ :  TCGA.READ.sampleMap/Gistic2_CopyNumber_Gistic2_all_data_by_genes\n",
      "\t TGCT :  TCGA.TGCT.sampleMap/Gistic2_CopyNumber_Gistic2_all_data_by_genes\n",
      "methylation450k :\n",
      "\t BLCA :  TCGA.BLCA.sampleMap/HumanMethylation450\n",
      "\t COAD :  TCGA.COAD.sampleMap/HumanMethylation450\n",
      "\t PRAD :  TCGA.PRAD.sampleMap/HumanMethylation450\n",
      "\t READ :  TCGA.READ.sampleMap/HumanMethylation450\n",
      "\t TGCT :  TCGA.TGCT.sampleMap/HumanMethylation450\n",
      "curated_survival_data :\n",
      "\t BLCA :  survival/BLCA_survival.txt\n",
      "\t COAD :  survival/COAD_survival.txt\n",
      "\t PRAD :  survival/PRAD_survival.txt\n",
      "\t READ :  survival/READ_survival.txt\n",
      "\t TGCT :  survival/TGCT_survival.txt\n",
      "gene_illumina :\n",
      "\t BLCA :  TCGA.BLCA.sampleMap/HiSeqV2\n",
      "\t COAD :  TCGA.COAD.sampleMap/HiSeqV2\n",
      "\t PRAD :  TCGA.PRAD.sampleMap/HiSeqV2\n",
      "\t READ :  TCGA.READ.sampleMap/HiSeqV2\n",
      "\t TGCT :  TCGA.TGCT.sampleMap/HiSeqV2\n",
      "exon_illumina :\n",
      "\t BLCA :  TCGA.BLCA.sampleMap/HiSeqV2_exon\n",
      "\t COAD :  TCGA.COAD.sampleMap/HiSeqV2_exon\n",
      "\t PRAD :  TCGA.PRAD.sampleMap/HiSeqV2_exon\n",
      "\t READ :  TCGA.READ.sampleMap/HiSeqV2_exon\n",
      "\t TGCT :  TCGA.TGCT.sampleMap/HiSeqV2_exon\n",
      "protein_expression_RPPA :\n",
      "\t BLCA :  TCGA.BLCA.sampleMap/RPPA_RBN\n",
      "\t COAD :  TCGA.COAD.sampleMap/RPPA_RBN\n",
      "\t PRAD :  TCGA.PRAD.sampleMap/RPPA_RBN\n",
      "\t READ :  TCGA.READ.sampleMap/RPPA_RBN\n",
      "\t TGCT :  TCGA.TGCT.sampleMap/RPPA_RBN\n"
     ]
    }
   ],
   "source": [
    "import xenaPython as xena\n",
    "\n",
    "host = \"https://tcga.xenahubs.net\"\n",
    "\n",
    "# we will look at 5 cancers, listed here in order:\n",
    "# bladder, colon, prostate, rectal, testicular\n",
    "cohorts = ['BLCA','COAD','PRAD','READ','TGCT']\n",
    "\n",
    "# we will look at 6 different datasets\n",
    "# the following lists the name of each of the 6 datasets\n",
    "datasets = ['gistic2','methylation450k','curated_survival_data','gene_illumina','exon_illumina', 'protein_expression_RPPA']\n",
    "\n",
    "# compile the dataset ids for every cohort for each dataset as a dictionary\n",
    "# each dictionary maps a cohort string representing a cancer type, e.g. 'TGCT' \n",
    "# with the string value representing the id for that dataset in that cohort\n",
    "\n",
    "# dataset ids for Gistic2 dataset\n",
    "dataset_gistic2 = dict([(c,'TCGA.' + c + '.sampleMap/Gistic2_CopyNumber_Gistic2_all_data_by_genes') for c in cohorts])\n",
    "\n",
    "# dataset ids for methlyation450k dataset\n",
    "dataset_450k = dict([(c,'TCGA.' + c + '.sampleMap/HumanMethylation450') for c in cohorts])\n",
    "\n",
    "# dataset ids for phenotype curated survival dataset\n",
    "dataset_phenotype_survival = dict([(c,'survival/' + c + '_survival.txt') for c in cohorts])\n",
    "\n",
    "# dataset ids for gene expression illumina hiseq dataset\n",
    "dataset_gene_expression = dict([(c,'TCGA.' + c + '.sampleMap/HiSeqV2') for c in cohorts])\n",
    "\n",
    "dataset_exon_expression = dict([(c,'TCGA.' + c + '.sampleMap/HiSeqV2_exon') for c in cohorts])\n",
    "\n",
    "dataset_protein_expression = dict([(c,'TCGA.' + c + '.sampleMap/RPPA_RBN') for c in cohorts])\n",
    "\n",
    "# collect all dictionaries of ids for different datasets and place in a list\n",
    "dataset_ids_list = [dataset_gistic2,dataset_450k,dataset_phenotype_survival,\n",
    "                    dataset_gene_expression,dataset_exon_expression, dataset_protein_expression]\n",
    "\n",
    "# use the created list above to make a dictionary, where every entry is a mapping\n",
    "# from a string representing a dataset, e.g. 'gistic2' with the dictionary holding\n",
    "# the string ids of each gistic2 dataset in each of the 6 cancers being analysed\n",
    "dataset_ids_dict = dict(zip(datasets,dataset_ids_list))\n",
    "\n",
    "# showing what is stored in this dictionary\n",
    "for dataset in dataset_ids_dict:\n",
    "    print(dataset,\":\") # the key of the entry\n",
    "    \n",
    "    dataset_ids = dataset_ids_dict[dataset] # get the dictionary value mapped to this key\n",
    "    \n",
    "    # for each entry in this dictionary, print the key and entry\n",
    "    for data_id in dataset_ids:\n",
    "        print(\"\\t\",data_id,\": \",dataset_ids[data_id])"
   ]
  },
  {
   "cell_type": "code",
   "execution_count": 2,
   "metadata": {},
   "outputs": [],
   "source": [
    "separation_list = ['BLCA-COAD','BLCA-PRAD','BLCA-READ','BLCA-TGCT','COAD-PRAD','COAD-READ','COAD-TGCT','PRAD-READ','PRAD-TGCT','READ-TGCT']"
   ]
  },
  {
   "cell_type": "code",
   "execution_count": 3,
   "metadata": {},
   "outputs": [],
   "source": [
    "from sklearn import svm"
   ]
  },
  {
   "cell_type": "code",
   "execution_count": 4,
   "metadata": {},
   "outputs": [],
   "source": [
    "import numpy as np\n",
    "\n",
    "# a function which creates the X and Y arrays needed to train a decision tree classifier with\n",
    "# Parameters:\n",
    "# dataset - a string representing the dataset to classify on, e.g. 'ginsic2'\n",
    "# cohorts - a list of strings representing which cancer types to classify, e.g. ['TGCT','PRAD','READ']\n",
    "def getXY(dataset,cohorts):\n",
    "    \n",
    "    X = []\n",
    "    Y = []\n",
    "    \n",
    "    for cohort in cohorts: # for every cancer type\n",
    "        \n",
    "        dataset_id = dataset_ids_dict[dataset][cohort] # get the dataset id string\n",
    "        samples_needed = xena.dataset_samples(host,dataset_id,200) # get a max. of 200 samples from this cohort dataset\n",
    "        \n",
    "        print(\"Number of samples is in \",cohort,\" is \",len(samples_needed))\n",
    "         \n",
    "        probes = xena.dataset_field_examples(host,dataset_id,500) \n",
    "        \n",
    "        [position,vals] = xena.dataset_probe_values(host,dataset_id,samples_needed,probes) # get values\n",
    "        \n",
    "        print(\"Dimensions for vals is \",len(vals),\"x\",len(vals[0]))\n",
    "        \n",
    "        vals_array = np.array(vals)\n",
    "        \n",
    "        print(\"Dimensions of vals_array is \",len(vals_array),\"x\",len(vals_array[0]))\n",
    "        \n",
    "        vals_list = vals_array.T.tolist()\n",
    "        \n",
    "        print(\"Dimensions of vals_list is \",len(vals_list),\"x\",len(vals_list[0]))\n",
    "        \n",
    "        for j in range(len(vals_list)):\n",
    "            \n",
    "            X.append(vals_list[j]) # add array of length n representing n-dimensional sample\n",
    "            Y.append(cohort) # add the cohort string denoting the cancer type - this is the label on the training data\n",
    "            \n",
    "    return X,Y"
   ]
  },
  {
   "cell_type": "code",
   "execution_count": 5,
   "metadata": {},
   "outputs": [],
   "source": [
    "#  a function which returns a list of the probes associated with a given dataset and cohort, max of 500\n",
    "def getProbes(dataset,cohort):\n",
    "    \n",
    "    dataset_id = dataset_ids_dict[dataset][cohort]\n",
    "    \n",
    "    probes = xena.dataset_field_examples(host,dataset_id,500)\n",
    "    \n",
    "    return probes"
   ]
  },
  {
   "cell_type": "code",
   "execution_count": 6,
   "metadata": {},
   "outputs": [],
   "source": [
    "# a function that checks that every sample in the X array has the same length\n",
    "def check_samples_equal_length(X):\n",
    "    \n",
    "    sample_length = len(X[0])\n",
    "    \n",
    "    for sample in X:\n",
    "        \n",
    "        if (len(sample) != sample_length): # if a sample has a different length from the first sample\n",
    "            return False \n",
    "    \n",
    "    print(\"All samples have length \",sample_length) # prints message to confirm that all samples have same length\n",
    "    return True"
   ]
  },
  {
   "cell_type": "code",
   "execution_count": 7,
   "metadata": {},
   "outputs": [],
   "source": [
    "#  this function replaces NaN in the X array with a 0\n",
    "def replaceNAN(X):\n",
    "    \n",
    "    newX = []\n",
    "    \n",
    "    for sample in X:\n",
    "        \n",
    "        newSample = []\n",
    "        \n",
    "        for value in sample:\n",
    "            if (value == \"NaN\"):\n",
    "                newSample.append(\"0\")\n",
    "            else:\n",
    "                newSample.append(value)\n",
    "        \n",
    "        newX.append(newSample)\n",
    "    \n",
    "    return newX"
   ]
  },
  {
   "cell_type": "code",
   "execution_count": 8,
   "metadata": {},
   "outputs": [],
   "source": [
    "def get_max_coefficients(coefficient):\n",
    "    \n",
    "    max_coefficients = [0,0,0,0,0]\n",
    "    indexes = [(-1,-1),(-1,-1),(-1,-1),(-1,-1),(-1,-1)]\n",
    "    \n",
    "    for i in range(len(coefficient)):\n",
    "        \n",
    "        values = coefficient[i]\n",
    "        \n",
    "        for j in range(len(values)):\n",
    "            \n",
    "            value = values[j]\n",
    "            \n",
    "            if (abs(value) > min(map(abs,max_coefficients))):\n",
    "                \n",
    "                index = list(map(abs,max_coefficients)).index(min(list(map(abs,max_coefficients))))\n",
    "                max_coefficients[index] = value\n",
    "                indexes[index] = (i,j)\n",
    "    \n",
    "    return max_coefficients,indexes\n",
    "        \n",
    "        \n",
    "    "
   ]
  },
  {
   "cell_type": "code",
   "execution_count": 9,
   "metadata": {},
   "outputs": [
    {
     "name": "stdout",
     "output_type": "stream",
     "text": [
      "Number of samples is in  BLCA  is  200\n",
      "Dimensions for vals is  500 x 200\n",
      "Dimensions of vals_array is  500 x 200\n",
      "Dimensions of vals_list is  200 x 500\n",
      "Number of samples is in  COAD  is  200\n",
      "Dimensions for vals is  500 x 200\n",
      "Dimensions of vals_array is  500 x 200\n",
      "Dimensions of vals_list is  200 x 500\n",
      "Number of samples is in  PRAD  is  200\n",
      "Dimensions for vals is  500 x 200\n",
      "Dimensions of vals_array is  500 x 200\n",
      "Dimensions of vals_list is  200 x 500\n",
      "Number of samples is in  READ  is  165\n",
      "Dimensions for vals is  500 x 165\n",
      "Dimensions of vals_array is  500 x 165\n",
      "Dimensions of vals_list is  165 x 500\n",
      "Number of samples is in  TGCT  is  150\n",
      "Dimensions for vals is  500 x 150\n",
      "Dimensions of vals_array is  500 x 150\n",
      "Dimensions of vals_list is  150 x 500\n"
     ]
    }
   ],
   "source": [
    "# get the X and Y values for decision tree classifier for the gistic2 dataset of all 5 cancers we are testing\n",
    "X,Y = getXY('gistic2',cohorts)"
   ]
  },
  {
   "cell_type": "code",
   "execution_count": 10,
   "metadata": {},
   "outputs": [
    {
     "name": "stdout",
     "output_type": "stream",
     "text": [
      "All samples have length  500\n",
      "True\n",
      "There are  915  samples altogether\n"
     ]
    }
   ],
   "source": [
    "# Checking that all samples in X are the same length\n",
    "print(check_samples_equal_length(X))\n",
    "print(\"There are \",len(X), \" samples altogether\")"
   ]
  },
  {
   "cell_type": "code",
   "execution_count": 11,
   "metadata": {},
   "outputs": [
    {
     "data": {
      "text/plain": [
       "SVC(C=1.0, break_ties=False, cache_size=200, class_weight=None, coef0=0.0,\n",
       "    decision_function_shape='ovo', degree=3, gamma='scale', kernel='linear',\n",
       "    max_iter=-1, probability=False, random_state=None, shrinking=True,\n",
       "    tol=0.001, verbose=False)"
      ]
     },
     "execution_count": 11,
     "metadata": {},
     "output_type": "execute_result"
    }
   ],
   "source": [
    "clf = svm.SVC(kernel='linear',decision_function_shape='ovo')\n",
    "clf.fit(X, Y)"
   ]
  },
  {
   "cell_type": "code",
   "execution_count": 12,
   "metadata": {},
   "outputs": [
    {
     "name": "stdout",
     "output_type": "stream",
     "text": [
      "[1.39466958523988, -1.4688413071231405, 1.5746811206610882, 1.8298656546843262, 1.5783160946878099]\n",
      "[(5, 21), (5, 483), (5, 179), (5, 219), (4, 6)]\n"
     ]
    }
   ],
   "source": [
    "coefficients = clf.coef_\n",
    "max_coefficients,associated_indexes = get_max_coefficients(coefficients)\n",
    "print(max_coefficients)\n",
    "print(associated_indexes)"
   ]
  },
  {
   "cell_type": "code",
   "execution_count": 16,
   "metadata": {},
   "outputs": [
    {
     "name": "stdout",
     "output_type": "stream",
     "text": [
      "COAD-PRAD\n",
      "-------\n",
      "ACSS2\n",
      "ACSS2\n",
      "ACSS2\n",
      "ACSS2\n",
      "ACSS2\n"
     ]
    }
   ],
   "source": [
    "print(separation_list[4])\n",
    "print(\"-------\")\n",
    "\n",
    "# get the probe values for gistic2 for each cancer\n",
    "\n",
    "TGCT_gistic2_probes = getProbes('gistic2','TGCT')\n",
    "PRAD_gistic2_probes = getProbes('gistic2','PRAD')\n",
    "READ_gistic2_probes = getProbes('gistic2','READ')\n",
    "COAD_gistic2_probes = getProbes('gistic2','COAD')\n",
    "BLCA_gistic2_probes = getProbes('gistic2','BLCA')\n",
    "\n",
    "# finding out what the 219th index probe value is and ensuring they're the same\n",
    "print(TGCT_gistic2_probes [219])\n",
    "print(PRAD_gistic2_probes [219])\n",
    "print(READ_gistic2_probes [219])\n",
    "print(COAD_gistic2_probes [219])\n",
    "print(BLCA_gistic2_probes [219])"
   ]
  },
  {
   "cell_type": "code",
   "execution_count": 9,
   "metadata": {},
   "outputs": [
    {
     "name": "stdout",
     "output_type": "stream",
     "text": [
      "Number of samples is in  BLCA  is  200\n",
      "Dimensions for vals is  500 x 200\n",
      "Dimensions of vals_array is  500 x 200\n",
      "Dimensions of vals_list is  200 x 500\n",
      "Number of samples is in  COAD  is  200\n",
      "Dimensions for vals is  500 x 200\n",
      "Dimensions of vals_array is  500 x 200\n",
      "Dimensions of vals_list is  200 x 500\n",
      "Number of samples is in  PRAD  is  200\n",
      "Dimensions for vals is  500 x 200\n",
      "Dimensions of vals_array is  500 x 200\n",
      "Dimensions of vals_list is  200 x 500\n",
      "Number of samples is in  READ  is  105\n",
      "Dimensions for vals is  500 x 105\n",
      "Dimensions of vals_array is  500 x 105\n",
      "Dimensions of vals_list is  105 x 500\n",
      "Number of samples is in  TGCT  is  156\n",
      "Dimensions for vals is  500 x 156\n",
      "Dimensions of vals_array is  500 x 156\n",
      "Dimensions of vals_list is  156 x 500\n"
     ]
    }
   ],
   "source": [
    "# getting X and Y for the gene expression data\n",
    "X,Y = getXY('gene_illumina',cohorts)"
   ]
  },
  {
   "cell_type": "code",
   "execution_count": 10,
   "metadata": {},
   "outputs": [
    {
     "name": "stdout",
     "output_type": "stream",
     "text": [
      "All samples have length  500\n",
      "True\n",
      "There are  861  samples altogether\n"
     ]
    }
   ],
   "source": [
    "print(check_samples_equal_length(X))\n",
    "print(\"There are \",len(X), \" samples altogether\")"
   ]
  },
  {
   "cell_type": "code",
   "execution_count": 11,
   "metadata": {},
   "outputs": [
    {
     "data": {
      "text/plain": [
       "SVC(C=1.0, break_ties=False, cache_size=200, class_weight=None, coef0=0.0,\n",
       "    decision_function_shape='ovo', degree=3, gamma='scale', kernel='linear',\n",
       "    max_iter=-1, probability=False, random_state=None, shrinking=True,\n",
       "    tol=0.001, verbose=False)"
      ]
     },
     "execution_count": 11,
     "metadata": {},
     "output_type": "execute_result"
    }
   ],
   "source": [
    "clf = svm.SVC(kernel='linear',decision_function_shape='ovo')\n",
    "clf.fit(X, Y)"
   ]
  },
  {
   "cell_type": "code",
   "execution_count": 12,
   "metadata": {},
   "outputs": [
    {
     "name": "stdout",
     "output_type": "stream",
     "text": [
      "[0.2409001415347472, 0.1975856371559539, -0.20361075189084366, 0.21919904080966557, 0.24152112913769752]\n",
      "[(5, 446), (5, 94), (5, 323), (5, 411), (5, 75)]\n"
     ]
    }
   ],
   "source": [
    "coefficients = clf.coef_\n",
    "max_coefficients,associated_indexes = get_max_coefficients(coefficients)\n",
    "print(max_coefficients)\n",
    "print(associated_indexes)"
   ]
  },
  {
   "cell_type": "code",
   "execution_count": 19,
   "metadata": {},
   "outputs": [
    {
     "name": "stdout",
     "output_type": "stream",
     "text": [
      "COAD-READ\n",
      "-------\n",
      "ABCB11\n",
      "ABCB11\n",
      "ABCB11\n",
      "ABCB11\n",
      "ABCB11\n"
     ]
    }
   ],
   "source": [
    "print(separation_list[5])\n",
    "print(\"-------\")\n",
    "\n",
    "# get the probe values for gene illumina for each cancer\n",
    "\n",
    "TGCT_gene_illumina_probes = getProbes('gene_illumina','TGCT')\n",
    "PRAD_gene_illumina_probes = getProbes('gene_illumina','PRAD')\n",
    "READ_gene_illumina_probes = getProbes('gene_illumina','READ')\n",
    "COAD_gene_illumina_probes = getProbes('gene_illumina','COAD')\n",
    "BLCA_gene_illumina_probes = getProbes('gene_illumina','BLCA')\n",
    "\n",
    "# finding out what the 11th index probe value is and ensuring they're the same\n",
    "print(TGCT_gene_illumina_probes [75])\n",
    "print(PRAD_gene_illumina_probes [75])\n",
    "print(READ_gene_illumina_probes [75])\n",
    "print(COAD_gene_illumina_probes [75])\n",
    "print(BLCA_gene_illumina_probes [75])"
   ]
  },
  {
   "cell_type": "code",
   "execution_count": 14,
   "metadata": {},
   "outputs": [
    {
     "name": "stdout",
     "output_type": "stream",
     "text": [
      "Number of samples is in  BLCA  is  200\n",
      "Dimensions for vals is  500 x 200\n",
      "Dimensions of vals_array is  500 x 200\n",
      "Dimensions of vals_list is  200 x 500\n",
      "Number of samples is in  COAD  is  200\n",
      "Dimensions for vals is  500 x 200\n",
      "Dimensions of vals_array is  500 x 200\n",
      "Dimensions of vals_list is  200 x 500\n",
      "Number of samples is in  PRAD  is  200\n",
      "Dimensions for vals is  500 x 200\n",
      "Dimensions of vals_array is  500 x 200\n",
      "Dimensions of vals_list is  200 x 500\n",
      "Number of samples is in  READ  is  106\n",
      "Dimensions for vals is  500 x 106\n",
      "Dimensions of vals_array is  500 x 106\n",
      "Dimensions of vals_list is  106 x 500\n",
      "Number of samples is in  TGCT  is  156\n",
      "Dimensions for vals is  500 x 156\n",
      "Dimensions of vals_array is  500 x 156\n",
      "Dimensions of vals_list is  156 x 500\n"
     ]
    }
   ],
   "source": [
    "# testing the dataset methylation450k\n",
    "X,Y = getXY('methylation450k',cohorts)\n",
    "X = replaceNAN(X)"
   ]
  },
  {
   "cell_type": "code",
   "execution_count": 15,
   "metadata": {},
   "outputs": [
    {
     "name": "stdout",
     "output_type": "stream",
     "text": [
      "All samples have length  500\n",
      "True\n",
      "There are  862  samples altogether\n"
     ]
    }
   ],
   "source": [
    "print(check_samples_equal_length(X))\n",
    "print(\"There are \",len(X), \" samples altogether\")"
   ]
  },
  {
   "cell_type": "code",
   "execution_count": 16,
   "metadata": {},
   "outputs": [
    {
     "data": {
      "text/plain": [
       "SVC(C=1.0, break_ties=False, cache_size=200, class_weight=None, coef0=0.0,\n",
       "    decision_function_shape='ovo', degree=3, gamma='scale', kernel='linear',\n",
       "    max_iter=-1, probability=False, random_state=None, shrinking=True,\n",
       "    tol=0.001, verbose=False)"
      ]
     },
     "execution_count": 16,
     "metadata": {},
     "output_type": "execute_result"
    }
   ],
   "source": [
    "clf = svm.SVC(kernel='linear',decision_function_shape='ovo')\n",
    "clf.fit(X, Y)"
   ]
  },
  {
   "cell_type": "code",
   "execution_count": 17,
   "metadata": {},
   "outputs": [
    {
     "name": "stdout",
     "output_type": "stream",
     "text": [
      "[-1.8374963013608827, 1.165279663125819, -1.4942323557566368, 1.228063289610482, 1.2645397508705614]\n",
      "[(5, 498), (5, 336), (5, 60), (5, 110), (5, 460)]\n"
     ]
    }
   ],
   "source": [
    "coefficients = clf.coef_\n",
    "max_coefficients,associated_indexes = get_max_coefficients(coefficients)\n",
    "print(max_coefficients)\n",
    "print(associated_indexes)"
   ]
  },
  {
   "cell_type": "code",
   "execution_count": 20,
   "metadata": {},
   "outputs": [
    {
     "name": "stdout",
     "output_type": "stream",
     "text": [
      "COAD-READ\n",
      "-------\n",
      "cg00019118\n",
      "cg00019118\n",
      "cg00019118\n",
      "cg00019118\n",
      "cg00019118\n"
     ]
    }
   ],
   "source": [
    "print(separation_list[5])\n",
    "print(\"-------\")\n",
    "\n",
    "# get the probe values for methylation450k for each cancer\n",
    "\n",
    "TGCT_methylation450k_probes = getProbes('methylation450k','TGCT')\n",
    "PRAD_methylation450k_probes = getProbes('methylation450k','PRAD')\n",
    "READ_methylation450k_probes = getProbes('methylation450k','READ')\n",
    "COAD_methylation450k_probes = getProbes('methylation450k','COAD')\n",
    "BLCA_methylation450k_probes = getProbes('methylation450k','BLCA')\n",
    "\n",
    "# finding out what the 11th index probe value is and ensuring they're the same\n",
    "print(TGCT_methylation450k_probes [460])\n",
    "print(PRAD_methylation450k_probes [460])\n",
    "print(READ_methylation450k_probes [460])\n",
    "print(COAD_methylation450k_probes [460])\n",
    "print(BLCA_methylation450k_probes [460])"
   ]
  },
  {
   "cell_type": "code",
   "execution_count": 21,
   "metadata": {},
   "outputs": [
    {
     "name": "stdout",
     "output_type": "stream",
     "text": [
      "Number of samples is in  BLCA  is  200\n",
      "Dimensions for vals is  500 x 200\n",
      "Dimensions of vals_array is  500 x 200\n",
      "Dimensions of vals_list is  200 x 500\n",
      "Number of samples is in  COAD  is  200\n",
      "Dimensions for vals is  500 x 200\n",
      "Dimensions of vals_array is  500 x 200\n",
      "Dimensions of vals_list is  200 x 500\n",
      "Number of samples is in  PRAD  is  200\n",
      "Dimensions for vals is  500 x 200\n",
      "Dimensions of vals_array is  500 x 200\n",
      "Dimensions of vals_list is  200 x 500\n",
      "Number of samples is in  READ  is  105\n",
      "Dimensions for vals is  500 x 105\n",
      "Dimensions of vals_array is  500 x 105\n",
      "Dimensions of vals_list is  105 x 500\n",
      "Number of samples is in  TGCT  is  156\n",
      "Dimensions for vals is  500 x 156\n",
      "Dimensions of vals_array is  500 x 156\n",
      "Dimensions of vals_list is  156 x 500\n"
     ]
    }
   ],
   "source": [
    "# testing the dataset exon expression\n",
    "X,Y = getXY('exon_illumina',cohorts)\n",
    "X = replaceNAN(X)"
   ]
  },
  {
   "cell_type": "code",
   "execution_count": 22,
   "metadata": {},
   "outputs": [
    {
     "name": "stdout",
     "output_type": "stream",
     "text": [
      "All samples have length  500\n",
      "True\n",
      "There are  861  samples altogether\n"
     ]
    }
   ],
   "source": [
    "print(check_samples_equal_length(X))\n",
    "print(\"There are \",len(X), \" samples altogether\")"
   ]
  },
  {
   "cell_type": "code",
   "execution_count": 23,
   "metadata": {},
   "outputs": [
    {
     "data": {
      "text/plain": [
       "SVC(C=1.0, break_ties=False, cache_size=200, class_weight=None, coef0=0.0,\n",
       "    decision_function_shape='ovo', degree=3, gamma='scale', kernel='linear',\n",
       "    max_iter=-1, probability=False, random_state=None, shrinking=True,\n",
       "    tol=0.001, verbose=False)"
      ]
     },
     "execution_count": 23,
     "metadata": {},
     "output_type": "execute_result"
    }
   ],
   "source": [
    "clf = svm.SVC(kernel='linear',decision_function_shape='ovo')\n",
    "clf.fit(X, Y)"
   ]
  },
  {
   "cell_type": "code",
   "execution_count": 24,
   "metadata": {},
   "outputs": [
    {
     "name": "stdout",
     "output_type": "stream",
     "text": [
      "[-0.6821504905899047, -0.7767823311134023, -0.6682707600828302, 1.0101383077271038, 0.6659136295772417]\n",
      "[(5, 426), (5, 251), (5, 346), (5, 383), (5, 295)]\n"
     ]
    }
   ],
   "source": [
    "coefficients = clf.coef_\n",
    "max_coefficients,associated_indexes = get_max_coefficients(coefficients)\n",
    "print(max_coefficients)\n",
    "print(associated_indexes)"
   ]
  },
  {
   "cell_type": "code",
   "execution_count": 25,
   "metadata": {},
   "outputs": [
    {
     "name": "stdout",
     "output_type": "stream",
     "text": [
      "COAD-READ\n",
      "-------\n",
      "chr10:102747070-102747272:-\n",
      "chr10:102747070-102747272:-\n",
      "chr10:102747070-102747272:-\n",
      "chr10:102747070-102747272:-\n",
      "chr10:102747070-102747272:-\n"
     ]
    }
   ],
   "source": [
    "print(separation_list[5])\n",
    "print(\"-------\")\n",
    "\n",
    "# get the probe values for each cancer\n",
    "\n",
    "TGCT_exon_illumina_probes = getProbes('exon_illumina','TGCT')\n",
    "PRAD_exon_illumina_probes = getProbes('exon_illumina','PRAD')\n",
    "READ_exon_illumina_probes = getProbes('exon_illumina','READ')\n",
    "COAD_exon_illumina_probes = getProbes('exon_illumina','COAD')\n",
    "BLCA_exon_illumina_probes = getProbes('exon_illumina','BLCA')\n",
    "\n",
    "print(TGCT_exon_illumina_probes [383])\n",
    "print(PRAD_exon_illumina_probes [383])\n",
    "print(READ_exon_illumina_probes [383])\n",
    "print(COAD_exon_illumina_probes [383])\n",
    "print(BLCA_exon_illumina_probes [383])"
   ]
  },
  {
   "cell_type": "code",
   "execution_count": null,
   "metadata": {},
   "outputs": [],
   "source": []
  }
 ],
 "metadata": {
  "kernelspec": {
   "display_name": "Python 3",
   "language": "python",
   "name": "python3"
  },
  "language_info": {
   "codemirror_mode": {
    "name": "ipython",
    "version": 3
   },
   "file_extension": ".py",
   "mimetype": "text/x-python",
   "name": "python",
   "nbconvert_exporter": "python",
   "pygments_lexer": "ipython3",
   "version": "3.6.5"
  }
 },
 "nbformat": 4,
 "nbformat_minor": 2
}
